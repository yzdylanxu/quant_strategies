{
 "cells": [
  {
   "cell_type": "code",
   "execution_count": 10,
   "id": "ffd39e37-9632-4815-af71-3e2e7abf6967",
   "metadata": {},
   "outputs": [
    {
     "name": "stdout",
     "output_type": "stream",
     "text": [
      "{'Annualized Return': np.float64(19.709525982216114), 'Sharpe Ratio': np.float64(5.2092221510854655), 'Max Drawdown': np.float64(-0.009457370883112057)}\n"
     ]
    }
   ],
   "source": [
    "import sys\n",
    "from pathlib import Path\n",
    "import pandas as pd\n",
    "\n",
    "# Ensure root is on path\n",
    "sys.path.append(str(Path().resolve().parent))\n",
    "\n",
    "from backtesting.data.loader import load_csv_data\n",
    "from backtesting.strategy.momentum import MomentumStrategy\n",
    "from backtesting.engine.backtester import BacktestRunner\n",
    "\n",
    "# Load data\n",
    "prices = load_csv_data(\"../backtesting/data/spy.csv\")\n",
    "\n",
    "# Run strategy\n",
    "strategy = MomentumStrategy(lookback=20)\n",
    "bt = BacktestRunner(prices, strategy, slippage_bps=5)\n",
    "results = bt.run()\n",
    "\n",
    "# View results\n",
    "print(results)"
   ]
  }
 ],
 "metadata": {
  "kernelspec": {
   "display_name": "Python 3 (ipykernel)",
   "language": "python",
   "name": "python3"
  },
  "language_info": {
   "codemirror_mode": {
    "name": "ipython",
    "version": 3
   },
   "file_extension": ".py",
   "mimetype": "text/x-python",
   "name": "python",
   "nbconvert_exporter": "python",
   "pygments_lexer": "ipython3",
   "version": "3.9.6"
  }
 },
 "nbformat": 4,
 "nbformat_minor": 5
}
