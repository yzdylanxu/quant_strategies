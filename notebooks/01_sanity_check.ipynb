{
 "cells": [
  {
   "cell_type": "code",
   "execution_count": 2,
   "id": "ffd39e37-9632-4815-af71-3e2e7abf6967",
   "metadata": {},
   "outputs": [
    {
     "name": "stdout",
     "output_type": "stream",
     "text": [
      "{'Annualized Return': 19.709525982216114, 'Sharpe Ratio': 3.801075943489127, 'Max Drawdown': -0.009457370883112057}\n"
     ]
    }
   ],
   "source": [
    "import sys\n",
    "from pathlib import Path\n",
    "import pandas as pd\n",
    "\n",
    "# Ensure root is on path\n",
    "sys.path.append(str(Path().resolve().parent))\n",
    "\n",
    "from backtesting.data.loader import load_csv_data\n",
    "from backtesting.strategy.momentum import MomentumStrategy\n",
    "from backtesting.engine.backtester import BacktestRunner\n",
    "\n",
    "# Load data\n",
    "prices = load_csv_data(\"../backtesting/data/spy.csv\")\n",
    "\n",
    "# Run strategy\n",
    "strategy = MomentumStrategy(lookback=20)\n",
    "bt = BacktestRunner(prices, strategy, slippage_bps=5)\n",
    "results = bt.run()\n",
    "\n",
    "# View results\n",
    "print(results)"
   ]
  },
  {
   "cell_type": "code",
   "execution_count": 6,
   "id": "21de111f-1959-428e-9268-e5333b3e7a5e",
   "metadata": {},
   "outputs": [
    {
     "name": "stdout",
     "output_type": "stream",
     "text": [
      "{'Annualized Return': 11.264039436553364, 'Sharpe Ratio': 0.4037606229097999, 'Max Drawdown': -0.34445346520038367}\n"
     ]
    }
   ],
   "source": [
    "import pandas as pd\n",
    "from pathlib import Path\n",
    "\n",
    "from backtesting.engine.backtester import BacktestRunner\n",
    "from backtesting.strategy.buy_and_hold import BuyAndHoldStrategy\n",
    "\n",
    "sys.path.append(str(Path().resolve().parent))\n",
    "\n",
    "# Load price data\n",
    "df = pd.read_csv(\"../backtesting/data/raw/s&p_500_e-mini.csv\", parse_dates=[\"Date\"], index_col=\"Date\")\n",
    "prices = df[\"Price\"]\n",
    "\n",
    "# Run buy-and-hold backtest\n",
    "strategy = BuyAndHoldStrategy()\n",
    "bt = BacktestRunner(prices, strategy, slippage_bps=0.0)\n",
    "results = bt.run()\n",
    "print(results)"
   ]
  }
 ],
 "metadata": {
  "kernelspec": {
   "display_name": "Python 3 (ipykernel)",
   "language": "python",
   "name": "python3"
  },
  "language_info": {
   "codemirror_mode": {
    "name": "ipython",
    "version": 3
   },
   "file_extension": ".py",
   "mimetype": "text/x-python",
   "name": "python",
   "nbconvert_exporter": "python",
   "pygments_lexer": "ipython3",
   "version": "3.9.6"
  }
 },
 "nbformat": 4,
 "nbformat_minor": 5
}
